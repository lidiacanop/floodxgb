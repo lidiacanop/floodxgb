{
 "cells": [
  {
   "cell_type": "markdown",
   "metadata": {},
   "source": [
    "# implement and test hyperparameter optimization for XGBoost"
   ]
  },
  {
   "cell_type": "code",
   "execution_count": 1,
   "metadata": {},
   "outputs": [],
   "source": [
    "import numpy as np\n",
    "from astropy.table import Table"
   ]
  },
  {
   "cell_type": "code",
   "execution_count": 2,
   "metadata": {},
   "outputs": [],
   "source": [
    "import xgboost as xgb\n",
    "from sklearn.model_selection import train_test_split"
   ]
  },
  {
   "cell_type": "code",
   "execution_count": 3,
   "metadata": {},
   "outputs": [],
   "source": [
    "import corner as DFM\n",
    "# --- plotting ---\n",
    "import matplotlib as mpl\n",
    "import matplotlib.pyplot as plt\n",
    "mpl.rcParams['text.usetex'] = True\n",
    "mpl.rcParams['font.family'] = 'serif'\n",
    "mpl.rcParams['axes.linewidth'] = 1.5\n",
    "mpl.rcParams['axes.xmargin'] = 1\n",
    "mpl.rcParams['xtick.labelsize'] = 'x-large'\n",
    "mpl.rcParams['xtick.major.size'] = 5\n",
    "mpl.rcParams['xtick.major.width'] = 1.5\n",
    "mpl.rcParams['ytick.labelsize'] = 'x-large'\n",
    "mpl.rcParams['ytick.major.size'] = 5\n",
    "mpl.rcParams['ytick.major.width'] = 1.5\n",
    "mpl.rcParams['legend.frameon'] = False\n",
    "%matplotlib inline "
   ]
  },
  {
   "cell_type": "markdown",
   "metadata": {},
   "source": [
    "# read in survey data"
   ]
  },
  {
   "cell_type": "code",
   "execution_count": 4,
   "metadata": {},
   "outputs": [],
   "source": [
    "survey = Table.read('ejflooddata_combined.hdf5')"
   ]
  },
  {
   "cell_type": "code",
   "execution_count": 5,
   "metadata": {},
   "outputs": [],
   "source": [
    "country = 'South Korea'\n",
    "expsoure = 'rain'\n",
    "city0 = survey[(survey['country'] == country) & (survey['res_length'] > 3.) & (survey['gender'] < 3.)]"
   ]
  },
  {
   "cell_type": "markdown",
   "metadata": {},
   "source": [
    "## compile training data"
   ]
  },
  {
   "cell_type": "code",
   "execution_count": 6,
   "metadata": {},
   "outputs": [
    {
     "data": {
      "text/plain": [
       "<TableColumns names=('﻿ResponseId','experience_rain','experience_coast','experience_river','experience_wind','experience_heat','experience_drought','experience_fire','experience_quake','relocation','gov_aid','self_vul','discrimination','education','income_USD','income_USD.mask','age','gender','queer','disability','res_length','language','language.mask','born','born.mask','races','relocation.recoded','education.recoded','country')>"
      ]
     },
     "execution_count": 6,
     "metadata": {},
     "output_type": "execute_result"
    }
   ],
   "source": [
    "city0.columns"
   ]
  },
  {
   "cell_type": "code",
   "execution_count": 7,
   "metadata": {},
   "outputs": [],
   "source": [
    "# properites of the population\n",
    "col_pop = ['self_vul', 'discrimination', 'education.recoded', 'income_USD', 'age', 'gender', 'queer', 'disability', 'language']\n",
    "#col_pop = ['discrimination', 'education.recoded', 'income_USD', 'age', 'gender', 'queer', 'disability', 'language']\n",
    "\n",
    "X = np.array([city0[col] for col in col_pop]).T\n",
    "Y = np.array(city0['experience_rain']) # exposure to rain "
   ]
  },
  {
   "cell_type": "code",
   "execution_count": 8,
   "metadata": {},
   "outputs": [],
   "source": [
    "# weights for data\n",
    "W = np.zeros(len(Y))\n",
    "for _y in np.unique(Y): \n",
    "    is_y = (Y.flatten() == _y)\n",
    "    W[is_y] = 1/np.sum(is_y)\n",
    "W *= len(W)/np.sum(W)"
   ]
  },
  {
   "cell_type": "markdown",
   "metadata": {},
   "source": [
    "# train XGBoost"
   ]
  },
  {
   "cell_type": "code",
   "execution_count": 9,
   "metadata": {},
   "outputs": [],
   "source": [
    "# Split data into training and testing sets\n",
    "X_train, X_test, y_train, y_test, w_train, w_test = train_test_split(X, Y, W, \n",
    "                                                                     test_size=0.2, random_state=42)"
   ]
  },
  {
   "cell_type": "code",
   "execution_count": 11,
   "metadata": {
    "scrolled": false
   },
   "outputs": [],
   "source": [
    "ntrial = 1000\n",
    "models = [] \n",
    "scores = []\n",
    "for i in range(ntrial): \n",
    "    dep = np.random.randint(1, 5)\n",
    "    lr = 10**np.random.uniform(low=-2, high=0)\n",
    "    nround = np.random.randint(50, 300)\n",
    "\n",
    "    xgb_model = xgb.XGBClassifier(\n",
    "        n_estimators=nround,\n",
    "        max_depth=dep,\n",
    "        learning_rate=lr,\n",
    "        importance_type='gain', \n",
    "        eval_metric='logloss')\n",
    "\n",
    "    # Train the model\n",
    "    xgb_model.fit(X_train, y_train-1, sample_weight=w_train)\n",
    "    \n",
    "    y_pred = xgb_model.predict(X_test) + 1\n",
    "    test_score = np.sum((y_pred - y_test)**2)\n",
    "    \n",
    "    #print('%i, %.3f, %i, %.3f' % (dep, lr, nround, test_score))\n",
    "    models.append(xgb_model)\n",
    "    scores.append(test_score)"
   ]
  },
  {
   "cell_type": "code",
   "execution_count": 12,
   "metadata": {},
   "outputs": [
    {
     "name": "stdout",
     "output_type": "stream",
     "text": [
      "[91, 92, 93, 95, 95]\n"
     ]
    }
   ],
   "source": [
    "best_models = [models[i] for i in np.argsort(scores)[:5]]\n",
    "print([scores[i] for i in np.argsort(scores)[:5]])"
   ]
  },
  {
   "cell_type": "code",
   "execution_count": 13,
   "metadata": {},
   "outputs": [
    {
     "data": {
      "text/plain": [
       "(0.0, 6.0)"
      ]
     },
     "execution_count": 13,
     "metadata": {},
     "output_type": "execute_result"
    },
    {
     "data": {
      "image/png": "[encoded data removed]",
      "text/plain": [
       "<Figure size 600x600 with 1 Axes>"
      ]
     },
     "metadata": {},
     "output_type": "display_data"
    }
   ],
   "source": [
    "fig = plt.figure(figsize=(6,6))\n",
    "sub = fig.add_subplot(111)\n",
    "\n",
    "y_preds = [] \n",
    "for best_model in best_models: \n",
    "    y_pred = best_model.predict(X_test) + 1\n",
    "    y_preds.append(y_pred)\n",
    "y_preds = np.array(y_preds)\n",
    "\n",
    "for u in np.arange(1,6):\n",
    "    is_u = (y_test == u).flatten()\n",
    "    if np.sum(is_u) > 0: \n",
    "        q0, q1, q2 = np.quantile(np.concatenate(y_preds[:,is_u]), [0.16, 0.5, 0.84])\n",
    "        sub.errorbar([u], [q1], [[q1-q0], [q2-q1]], color='C%i' % (u-1), alpha=0.5)\n",
    "        sub.scatter([u], [q1], color='C%i' % (u-1))\n",
    "sub.plot([0., 10.], [0., 10.], color='k', linestyle='--')\n",
    "sub.set_xlim(0., 6)\n",
    "sub.set_ylim(0., 6)"
   ]
  },
  {
   "cell_type": "code",
   "execution_count": 14,
   "metadata": {},
   "outputs": [
    {
     "data": {
      "text/plain": [
       "(0.0, 0.31823454666137696)"
      ]
     },
     "execution_count": 14,
     "metadata": {},
     "output_type": "execute_result"
    },
    {
     "data": {
      "image/png": "[encoded data removed]",
      "text/plain": [
       "<Figure size 600x600 with 1 Axes>"
      ]
     },
     "metadata": {},
     "output_type": "display_data"
    }
   ],
   "source": [
    "#feature_names = ['vulnerability', 'discrimination', 'education', 'income', \n",
    "#                              'age', 'gender', 'queer', 'disability', 'language']#, 'relocation']\n",
    "\n",
    "fig = plt.figure(figsize=(6,6))\n",
    "sub = fig.add_subplot(111)\n",
    "\n",
    "feature_importances = []\n",
    "for best_model in best_models: \n",
    "    feature_importances.append(best_model.feature_importances_)\n",
    "feature_importances = np.array(feature_importances)    \n",
    "\n",
    "for i in range(feature_importances.shape[1]): \n",
    "    q0, q1, q2 = np.quantile(feature_importances[:,i], (0.16, 0.5, 0.84))\n",
    "    sub.errorbar([i], [q1], [[q2-q1], [q1-q0]], fmt='.k', zorder=20)\n",
    "    #sub.scatter([i], [q1], color='C%i' % i)\n",
    "    sub.bar([i], [q1], color='C%i' % i)\n",
    "    \n",
    "#for ii, name, imp in zip(np.arange(len(feature_names)), feature_names, feature_importances):\n",
    "\n",
    "sub.set_xlim(-0.5, feature_importances.shape[1]-0.5)\n",
    "sub.set_ylim(0., None)"
   ]
  },
  {
   "cell_type": "code",
   "execution_count": null,
   "metadata": {},
   "outputs": [],
   "source": []
  },
  {
   "cell_type": "code",
   "execution_count": null,
   "metadata": {},
   "outputs": [],
   "source": []
  },
  {
   "cell_type": "code",
   "execution_count": null,
   "metadata": {},
   "outputs": [],
   "source": []
  }
 ],
 "metadata": {
  "kernelspec": {
   "display_name": "noah",
   "language": "python",
   "name": "noah"
  },
  "language_info": {
   "codemirror_mode": {
    "name": "ipython",
    "version": 3
   },
   "file_extension": ".py",
   "mimetype": "text/x-python",
   "name": "python",
   "nbconvert_exporter": "python",
   "pygments_lexer": "ipython3",
   "version": "3.8.8"
  }
 },
 "nbformat": 4,
 "nbformat_minor": 4
}
